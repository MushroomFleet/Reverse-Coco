{
  "cells": [
    {
      "cell_type": "markdown",
      "metadata": {
        "id": "view-in-github",
        "colab_type": "text"
      },
      "source": [
        "<a href=\"https://colab.research.google.com/github/MushroomFleet/Reverse-Coco/blob/main/ReverseCocoV1.ipynb\" target=\"_parent\"><img src=\"https://colab.research.google.com/assets/colab-badge.svg\" alt=\"Open In Colab\"/></a>"
      ]
    },
    {
      "cell_type": "markdown",
      "metadata": {
        "id": "1lJFS3DwxNGU"
      },
      "source": [
        "###**Google Drive Sync & setup**"
      ]
    },
    {
      "cell_type": "code",
      "source": [
        "from google.colab import drive\n",
        "drive.mount('/content/drive')"
      ],
      "metadata": {
        "colab": {
          "base_uri": "https://localhost:8080/"
        },
        "id": "jkewPHxopHL7",
        "outputId": "82535704-69be-4a03-dac8-fdd944ccb323"
      },
      "execution_count": null,
      "outputs": [
        {
          "output_type": "stream",
          "name": "stdout",
          "text": [
            "Mounted at /content/drive\n"
          ]
        }
      ]
    },
    {
      "cell_type": "markdown",
      "source": [
        "using python we can interrogate Coco Model to draw out image descriptions if a match is found. We can select a list of words and choose the min/max length params. Also you can narrow the search with ensuring the number of matched words. If you cannot find any matches, use common listed words, add more listed words or reduce \"Num_Words\". \n",
        "\n",
        "If you use Wildcards then enable the Underscore mode to surround your listed words with double underscores."
      ],
      "metadata": {
        "id": "5vS8EAkMAbIo"
      }
    },
    {
      "cell_type": "markdown",
      "source": [
        "# Required\n"
      ],
      "metadata": {
        "id": "rVGCzXO2jtpi"
      }
    },
    {
      "cell_type": "code",
      "source": [
        "import random\n",
        "import json\n",
        "import os\n",
        "import re\n",
        "\n",
        "import zipfile\n",
        "import spacy\n",
        "\n",
        "nlp = spacy.load(\"en_core_web_sm\")\n",
        "\n",
        "def install(package):\n",
        "    # Install a package using pip\n",
        "    import subprocess\n",
        "    subprocess.check_call([\"!pip\", \"install\", package])\n",
        "\n",
        "# Install wget and unzip if they are not already installed\n",
        "try:\n",
        "    import wget\n",
        "except ImportError:\n",
        "    !pip install wget\n",
        "try:\n",
        "    import zipfile\n",
        "except ImportError:\n",
        "    !pip install unzip\n",
        "\n",
        "def download_dataset():\n",
        "    if not os.path.exists(\"annotations\"):\n",
        "        os.makedirs(\"annotations\")\n",
        "    wget.download(\"http://images.cocodataset.org/annotations/annotations_trainval2014.zip\", out=\"annotations/\")\n",
        "    with zipfile.ZipFile(\"annotations/annotations_trainval2014.zip\", \"r\") as zip_ref:\n",
        "        zip_ref.extractall(\"annotations/\")"
      ],
      "metadata": {
        "id": "y1ih0-V_vKZu"
      },
      "execution_count": 8,
      "outputs": []
    },
    {
      "cell_type": "markdown",
      "source": [
        "# Config"
      ],
      "metadata": {
        "id": "usV3fybBoa7h"
      }
    },
    {
      "cell_type": "code",
      "source": [
        "# Define variables\n",
        "words = \"danger,cat,attack\" # @param {type:'string'}\n",
        "words_min = 4 # @param {type:'integer'}\n",
        "words_max = 20 # @param {type:'integer'}\n",
        "num_words = 2 # @param {type:'integer'}\n",
        "\n",
        "underscore = True # @param {type:'boolean'}\n",
        "\n",
        "file_path = \"/content/descriptions.txt\" # @param {type:'string'}\n",
        "\n",
        "\n",
        "\n",
        "def generate_description(words, words_min, words_max, num_words, underscore=False):\n",
        "    if not os.path.exists(\"annotations/annotations/captions_train2014.json\"):\n",
        "        download_dataset()\n",
        "    with open(\"annotations/annotations/captions_train2014.json\", \"r\") as f:\n",
        "        data = json.load(f)\n",
        "    descriptions = [d[\"caption\"] for d in data[\"annotations\"]]\n",
        "    matching_descriptions = []\n",
        "    for description in descriptions:\n",
        "        count = 0\n",
        "        for word in words:\n",
        "            if word in description:\n",
        "                count += 1\n",
        "                if count >= num_words:\n",
        "                    matching_descriptions.append(description)\n",
        "                    break\n",
        "    if not matching_descriptions:\n",
        "        return None\n",
        "    description = random.choice(matching_descriptions)\n",
        "    description = description.strip().capitalize() + \".\"\n",
        "    \n",
        "    # Use spaCy to improve grammar and syntax\n",
        "    doc = nlp(description)\n",
        "    description = \" \".join([token.text for token in doc])\n",
        "    \n",
        "    if underscore:\n",
        "        # Add double underscores to the listed words\n",
        "        for word in words:\n",
        "            description = re.sub(r'\\b%s\\b' % word, \"__%s__\" % word, description)\n",
        "\n",
        "    # Limit the number of words in the description\n",
        "    words_in_description = description.split()\n",
        "    if len(words_in_description) < words_min:\n",
        "        return None\n",
        "    if len(words_in_description) > words_max:\n",
        "        description = \" \".join(words_in_description[:words_max]) + \".\"\n",
        "        \n",
        "    # Remove any text containing two periods that are touching\n",
        "    description = re.sub(r'\\.\\.+', '.', description)\n",
        "    \n",
        "    return description\n",
        "\n",
        "description = None\n",
        "while not description:\n",
        "    description = generate_description(words.split(\",\"), words_min, words_max, num_words, underscore)\n",
        "\n",
        "print(description)"
      ],
      "metadata": {
        "colab": {
          "base_uri": "https://localhost:8080/"
        },
        "cellView": "form",
        "id": "0P3yCEhPvqDa",
        "outputId": "ff97604c-023f-4801-a089-b3480d202932"
      },
      "execution_count": 9,
      "outputs": [
        {
          "output_type": "stream",
          "name": "stdout",
          "text": [
            "A black __cat__ is attacking a yellow umbrella .\n"
          ]
        }
      ]
    },
    {
      "cell_type": "markdown",
      "source": [
        "# Write Result to Text File"
      ],
      "metadata": {
        "id": "ggtPOMTfouMc"
      }
    },
    {
      "cell_type": "code",
      "source": [
        "print(description)\n",
        "\n",
        "if os.path.exists(file_path):\n",
        "    with open(file_path, \"a\") as f:\n",
        "        f.write(\"\\n\" + description)\n",
        "else:\n",
        "    with open(file_path, \"w\") as f:\n",
        "        f.write(description)"
      ],
      "metadata": {
        "colab": {
          "base_uri": "https://localhost:8080/"
        },
        "id": "B7NYWLUivYFq",
        "outputId": "0e237c5f-6b64-4001-be0f-f3d7141b9cc8"
      },
      "execution_count": 10,
      "outputs": [
        {
          "output_type": "stream",
          "name": "stdout",
          "text": [
            "A black __cat__ is attacking a yellow umbrella .\n"
          ]
        }
      ]
    },
    {
      "cell_type": "markdown",
      "source": [
        "# if not working google drive:\n",
        "Remember to download the description.txt ! it is lost when the session ends."
      ],
      "metadata": {
        "id": "iymkqw-fzp0H"
      }
    }
  ],
  "metadata": {
    "colab": {
      "provenance": [],
      "collapsed_sections": [
        "rVGCzXO2jtpi",
        "ggtPOMTfouMc"
      ],
      "toc_visible": true,
      "include_colab_link": true
    },
    "gpuClass": "standard",
    "kernelspec": {
      "display_name": "Python 3",
      "name": "python3"
    },
    "language_info": {
      "name": "python"
    }
  },
  "nbformat": 4,
  "nbformat_minor": 0
}